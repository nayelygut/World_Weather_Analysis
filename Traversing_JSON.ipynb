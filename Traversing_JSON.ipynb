{
 "cells": [
  {
   "cell_type": "code",
   "execution_count": 4,
   "id": "bd78a846",
   "metadata": {},
   "outputs": [],
   "source": [
    "import requests\n",
    "from config import weather_api_key as api_key"
   ]
  },
  {
   "cell_type": "code",
   "execution_count": 5,
   "id": "ddaaed25",
   "metadata": {},
   "outputs": [],
   "source": [
    "url=\"http://api.openweathermap.org/data/2.5/weather?\"\n",
    "city=\"London\""
   ]
  },
  {
   "cell_type": "code",
   "execution_count": 7,
   "id": "2efe94ec",
   "metadata": {},
   "outputs": [],
   "source": [
    "query_url=url+\"appid=\"+api_key+\"&q=\"+ city"
   ]
  },
  {
   "cell_type": "code",
   "execution_count": 9,
   "id": "dc6d956d",
   "metadata": {},
   "outputs": [],
   "source": [
    "weather_response=requests.get(query_url)\n",
    "weather_json=weather_response.json()"
   ]
  },
  {
   "cell_type": "code",
   "execution_count": null,
   "id": "c51219cb",
   "metadata": {},
   "outputs": [],
   "source": []
  },
  {
   "cell_type": "code",
   "execution_count": null,
   "id": "2eac5d68",
   "metadata": {},
   "outputs": [],
   "source": []
  },
  {
   "cell_type": "code",
   "execution_count": null,
   "id": "85491afc",
   "metadata": {},
   "outputs": [],
   "source": []
  }
 ],
 "metadata": {
  "kernelspec": {
   "display_name": "PythonData",
   "language": "python",
   "name": "pythondata"
  },
  "language_info": {
   "codemirror_mode": {
    "name": "ipython",
    "version": 3
   },
   "file_extension": ".py",
   "mimetype": "text/x-python",
   "name": "python",
   "nbconvert_exporter": "python",
   "pygments_lexer": "ipython3",
   "version": "3.7.10"
  }
 },
 "nbformat": 4,
 "nbformat_minor": 5
}
